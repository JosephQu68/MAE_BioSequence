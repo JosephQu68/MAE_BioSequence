{
 "cells": [
  {
   "cell_type": "code",
   "execution_count": 1,
   "metadata": {},
   "outputs": [
    {
     "name": "stderr",
     "output_type": "stream",
     "text": [
      "2023-02-28 22:59:57.867937: I tensorflow/core/platform/cpu_feature_guard.cc:193] This TensorFlow binary is optimized with oneAPI Deep Neural Network Library (oneDNN) to use the following CPU instructions in performance-critical operations:  AVX2 FMA\n",
      "To enable them in other operations, rebuild TensorFlow with the appropriate compiler flags.\n",
      "2023-02-28 23:00:00.280517: W tensorflow/compiler/xla/stream_executor/platform/default/dso_loader.cc:64] Could not load dynamic library 'libcudart.so.11.0'; dlerror: libcudart.so.11.0: cannot open shared object file: No such file or directory\n",
      "2023-02-28 23:00:00.280537: I tensorflow/compiler/xla/stream_executor/cuda/cudart_stub.cc:29] Ignore above cudart dlerror if you do not have a GPU set up on your machine.\n",
      "2023-02-28 23:00:05.226785: W tensorflow/compiler/xla/stream_executor/platform/default/dso_loader.cc:64] Could not load dynamic library 'libnvinfer.so.7'; dlerror: libnvinfer.so.7: cannot open shared object file: No such file or directory\n",
      "2023-02-28 23:00:05.226913: W tensorflow/compiler/xla/stream_executor/platform/default/dso_loader.cc:64] Could not load dynamic library 'libnvinfer_plugin.so.7'; dlerror: libnvinfer_plugin.so.7: cannot open shared object file: No such file or directory\n",
      "2023-02-28 23:00:05.226922: W tensorflow/compiler/tf2tensorrt/utils/py_utils.cc:38] TF-TRT Warning: Cannot dlopen some TensorRT libraries. If you would like to use Nvidia GPU with TensorRT, please make sure the missing libraries mentioned above are installed properly.\n"
     ]
    },
    {
     "name": "stdout",
     "output_type": "stream",
     "text": [
      "Length of seq is 300\n",
      "Dimension is 25\n"
     ]
    }
   ],
   "source": [
    "from MAESeqModule.MAESeq_utils import dataloader,get_dict, seq_data_to_onehot\n",
    "import numpy as np\n",
    "DICT_EXIST = True\n",
    "DICT_PATH_CHAR2INT = 'dict/char2int.npy'\n",
    "DICT_PATH_INT2CHAR = 'dict/int2char.npy'\n",
    "DATA_PATH = 'dataset/scop_fa_represeq_lib_latest.fa'\n",
    "\n",
    "seq_list, max_len = dataloader(\n",
    "    file= DATA_PATH,\n",
    "    len_data=10000, max_len_percintile=75)\n",
    "max_len = 300 # 在这里统一一下\n",
    "\n",
    "if DICT_EXIST:\n",
    "    dict_char2int = np.load(DICT_PATH_CHAR2INT, allow_pickle = True).item()\n",
    "    dict_int2char = np.load(DICT_PATH_INT2CHAR,allow_pickle = True).item()\n",
    "else:\n",
    "    dict_char2int, dict_int2char = get_dict(seq_list)\n",
    "    np.save(DICT_PATH_CHAR2INT, dict_char2int)\n",
    "    np.save(DICT_PATH_INT2CHAR, dict_int2char)\n",
    "\n",
    "onehot_data = seq_data_to_onehot(seq_list,dict_char2int,max_len)\n",
    "dimension = len(dict_char2int)\n",
    "\n",
    "print(\"Length of seq is {}\".format(max_len))\n",
    "print(\"Dimension is {}\".format(dimension))\n"
   ]
  },
  {
   "cell_type": "code",
   "execution_count": 2,
   "metadata": {},
   "outputs": [
    {
     "name": "stdout",
     "output_type": "stream",
     "text": [
      "(8000, 300, 25)\n",
      "(1500, 300, 25)\n",
      "(500, 300, 25)\n"
     ]
    }
   ],
   "source": [
    "import numpy as np\n",
    "onehot_train, onehot_val,onehot_test =np.split(onehot_data,[\n",
    "        int(len(onehot_data)*0.8), \n",
    "        int(len(onehot_data)*0.95)])\n",
    "print(onehot_train.shape)\n",
    "print(onehot_val.shape)\n",
    "print(onehot_test.shape)\n",
    "\n"
   ]
  },
  {
   "cell_type": "code",
   "execution_count": 24,
   "metadata": {},
   "outputs": [
    {
     "name": "stdout",
     "output_type": "stream",
     "text": [
      "117.0\n",
      "12.0\n"
     ]
    }
   ],
   "source": [
    "# from MAESeqModule.MAESeq_utils import mask_onehot_matrix\n",
    "def mask_onehot_matrix(onehot_data, mask_rate = 0.2):\n",
    "    # To input the whole data\n",
    "    len_data = onehot_data.shape[0]\n",
    "    res = onehot_data.copy()\n",
    "    val_len = np.sum(np.sum(onehot_data, axis=2),axis=1)\n",
    "    mask_len = (val_len * mask_rate).astype(np.int32)\n",
    "    right_limit = val_len-mask_len\n",
    "    start_point = np.random.randint(right_limit)\n",
    "    end_point = start_point+mask_len\n",
    "    # len_seq = onehot_data.shape[1]\n",
    "    # len_mask = int(mask_rate*len_seq)\n",
    "    # for single_matrix in res:\n",
    "    #     mask_choose = np.random.choice(len_seq,len_mask,replace=False)\n",
    "    #     single_matrix[mask_choose,:]=0\n",
    "    for _ in range(len_data):\n",
    "        res[_,start_point[_]:end_point[_],:] = 0.\n",
    "    return res\n",
    "\n",
    "onehot_train_mask = mask_onehot_matrix(onehot_train, 0.9)\n",
    "\n",
    "i = 40\n",
    "print(np.sum(onehot_train[i]))\n",
    "print(np.sum(onehot_train_mask[i]))"
   ]
  },
  {
   "cell_type": "code",
   "execution_count": 5,
   "metadata": {},
   "outputs": [
    {
     "name": "stderr",
     "output_type": "stream",
     "text": [
      "2023-02-28 18:24:49.746184: I tensorflow/core/platform/cpu_feature_guard.cc:151] This TensorFlow binary is optimized with oneAPI Deep Neural Network Library (oneDNN) to use the following CPU instructions in performance-critical operations:  AVX2 AVX512F FMA\n",
      "To enable them in other operations, rebuild TensorFlow with the appropriate compiler flags.\n",
      "2023-02-28 18:24:58.966031: I tensorflow/core/common_runtime/gpu/gpu_device.cc:1525] Created device /job:localhost/replica:0/task:0/device:GPU:0 with 62777 MB memory:  -> device: 0, name: NVIDIA A100 80GB PCIe, pci bus id: 0000:12:00.0, compute capability: 8.0\n",
      "2023-02-28 18:24:58.971676: I tensorflow/core/common_runtime/gpu/gpu_device.cc:1525] Created device /job:localhost/replica:0/task:0/device:GPU:1 with 70029 MB memory:  -> device: 1, name: NVIDIA A100 80GB PCIe, pci bus id: 0000:13:00.0, compute capability: 8.0\n",
      "2023-02-28 18:24:58.973409: I tensorflow/core/common_runtime/gpu/gpu_device.cc:1525] Created device /job:localhost/replica:0/task:0/device:GPU:2 with 72321 MB memory:  -> device: 2, name: NVIDIA A100 80GB PCIe, pci bus id: 0000:48:00.0, compute capability: 8.0\n",
      "2023-02-28 18:24:58.975095: I tensorflow/core/common_runtime/gpu/gpu_device.cc:1525] Created device /job:localhost/replica:0/task:0/device:GPU:3 with 78536 MB memory:  -> device: 3, name: NVIDIA A100 80GB PCIe, pci bus id: 0000:49:00.0, compute capability: 8.0\n",
      "2023-02-28 18:24:58.976830: I tensorflow/core/common_runtime/gpu/gpu_device.cc:1525] Created device /job:localhost/replica:0/task:0/device:GPU:4 with 74203 MB memory:  -> device: 4, name: NVIDIA A100 80GB PCIe, pci bus id: 0000:89:00.0, compute capability: 8.0\n",
      "2023-02-28 18:24:58.978575: I tensorflow/core/common_runtime/gpu/gpu_device.cc:1525] Created device /job:localhost/replica:0/task:0/device:GPU:5 with 74287 MB memory:  -> device: 5, name: NVIDIA A100 80GB PCIe, pci bus id: 0000:8a:00.0, compute capability: 8.0\n",
      "2023-02-28 18:24:58.980261: I tensorflow/core/common_runtime/gpu/gpu_device.cc:1525] Created device /job:localhost/replica:0/task:0/device:GPU:6 with 78536 MB memory:  -> device: 6, name: NVIDIA A100 80GB PCIe, pci bus id: 0000:c1:00.0, compute capability: 8.0\n",
      "2023-02-28 18:24:58.982394: I tensorflow/core/common_runtime/gpu/gpu_device.cc:1525] Created device /job:localhost/replica:0/task:0/device:GPU:7 with 50929 MB memory:  -> device: 7, name: NVIDIA A100 80GB PCIe, pci bus id: 0000:c2:00.0, compute capability: 8.0\n"
     ]
    }
   ],
   "source": [
    "from MAESeqModule.MAESeq_model import AutoencoderGRU, ReconstructRateVaried,my_loss_entropy\n",
    "import keras\n",
    "import tensorflow as tf\n",
    "\n",
    "autoencoder = keras.models.load_model('/geniusland/home/qufuchuan/trained_model/',custom_objects={\n",
    "    'my_loss_entropy':my_loss_entropy, \n",
    "    'ReconstructRateVaried':ReconstructRateVaried})\n"
   ]
  },
  {
   "cell_type": "code",
   "execution_count": 7,
   "metadata": {},
   "outputs": [
    {
     "name": "stderr",
     "output_type": "stream",
     "text": [
      "2023-02-28 18:27:40.430446: I tensorflow/stream_executor/cuda/cuda_dnn.cc:366] Loaded cuDNN version 8100\n",
      "2023-02-28 18:27:44.108042: I tensorflow/stream_executor/cuda/cuda_blas.cc:1774] TensorFloat-32 will be used for the matrix multiplication. This will only be logged once.\n"
     ]
    },
    {
     "data": {
      "text/plain": [
       "Mask 0.00    0.894837\n",
       "Mask 0.05    0.854087\n",
       "Mask 0.10    0.811198\n",
       "Mask 0.15    0.771023\n",
       "Mask 0.20    0.727425\n",
       "Mask 0.25    0.684377\n",
       "Mask 0.30    0.641476\n",
       "Mask 0.35    0.599687\n",
       "Mask 0.40    0.557495\n",
       "Mask 0.45    0.509900\n",
       "Mask 0.50    0.466034\n",
       "Mask 0.55    0.420700\n",
       "Mask 0.60    0.376723\n",
       "Mask 0.65    0.328652\n",
       "Mask 0.70    0.282585\n",
       "Mask 0.75    0.237447\n",
       "Mask 0.80    0.190354\n",
       "Mask 0.85    0.149115\n",
       "Mask 0.90    0.106006\n",
       "Mask 0.95    0.072003\n",
       "Mask 1.00    0.043708\n",
       "dtype: float64"
      ]
     },
     "execution_count": 7,
     "metadata": {},
     "output_type": "execute_result"
    }
   ],
   "source": [
    "from MAESeqModule.MAESeq_utils import mask_onehot_matrix, evaluate_per_mask_rate\n",
    "import numpy as np\n",
    "import pandas as pd\n",
    "\n",
    "res = evaluate_per_mask_rate(autoencoder=autoencoder, onehot_test = onehot_test)\n",
    "res\n",
    "\n"
   ]
  }
 ],
 "metadata": {
  "kernelspec": {
   "display_name": "Python 3.10.4 64-bit",
   "language": "python",
   "name": "python3"
  },
  "language_info": {
   "codemirror_mode": {
    "name": "ipython",
    "version": 3
   },
   "file_extension": ".py",
   "mimetype": "text/x-python",
   "name": "python",
   "nbconvert_exporter": "python",
   "pygments_lexer": "ipython3",
   "version": "3.10.6"
  },
  "vscode": {
   "interpreter": {
    "hash": "916dbcbb3f70747c44a77c7bcd40155683ae19c65e1c03b4aa3499c5328201f1"
   }
  }
 },
 "nbformat": 4,
 "nbformat_minor": 4
}
