{
 "cells": [
  {
   "cell_type": "code",
   "execution_count": 1,
   "metadata": {},
   "outputs": [],
   "source": [
    "from MAESeq_utils import dataloader,get_dict, seq_data_to_onehot\n",
    "\n",
    "seq_list, max_len = dataloader(len_data=1000, max_len_percintile=75)\n",
    "dict_char2int, dict_int2char = get_dict(seq_list)\n",
    "onehot_data = seq_data_to_onehot(seq_list,dict_char2int,max_len)\n",
    "dimension = len(dict_char2int)\n",
    "\n",
    "print(\"Length of seq is {}\".format(max_len))\n",
    "print(\"Dimension is {}\".format(dimension))\n"
   ]
  },
  {
   "cell_type": "code",
   "execution_count": 15,
   "metadata": {},
   "outputs": [],
   "source": [
    "from MARSeq_model import AutoencoderGRU, my_loss_entro, calReconstructRate, evaluateReconstructRate_varied_length\n",
    "import keras\n",
    "import tensorflow as tf\n",
    "\n",
    "# autoencoder = keras.models.load_model('trained_model/',custom_objects={\n",
    "#     'my_loss_entro':my_loss_entro, \n",
    "#     'calReconstructRate':calReconstructRate})\n",
    "evaluateReconstructRate_varied_length(onehot_data[0:100], onehot_data[0:100])\n"
   ]
  },
  {
   "cell_type": "code",
   "execution_count": null,
   "metadata": {},
   "outputs": [],
   "source": []
  }
 ],
 "metadata": {
  "kernelspec": {
   "display_name": "Python 3.8.8 ('base')",
   "language": "python",
   "name": "python3"
  },
  "language_info": {
   "codemirror_mode": {
    "name": "ipython",
    "version": 3
   },
   "file_extension": ".py",
   "mimetype": "text/x-python",
   "name": "python",
   "nbconvert_exporter": "python",
   "pygments_lexer": "ipython3",
   "version": "3.8.8"
  },
  "orig_nbformat": 4,
  "vscode": {
   "interpreter": {
    "hash": "49cb93f377a7abe7414b7b0f21fb3017538004a126cf690fb524202736b7fb92"
   }
  }
 },
 "nbformat": 4,
 "nbformat_minor": 2
}
