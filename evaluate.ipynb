{
 "cells": [
  {
   "cell_type": "code",
   "execution_count": 1,
   "metadata": {},
   "outputs": [],
   "source": [
    "from MAESeqModule.MAESeq_utils import dataloader,get_dict, seq_data_to_onehot\n",
    "\n",
    "seq_list, max_len = dataloader(len_data=1000, max_len_percintile=75)\n",
    "dict_char2int, dict_int2char = get_dict(seq_list)\n",
    "onehot_data = seq_data_to_onehot(seq_list,dict_char2int,max_len)\n",
    "dimension = len(dict_char2int)\n",
    "\n",
    "print(\"Length of seq is {}\".format(max_len))\n",
    "print(\"Dimension is {}\".format(dimension))\n"
   ]
  },
  {
   "cell_type": "code",
   "execution_count": 15,
   "metadata": {},
   "outputs": [],
   "source": [
    "from MAESeqModule.MAESeq_model import AutoencoderGRU, ReconstructRateVaried\n",
    "import keras\n",
    "import tensorflow as tf\n",
    "\n",
    "# autoencoder = keras.models.load_model('trained_model/',custom_objects={\n",
    "#     'my_loss_entro':my_loss_entro, \n",
    "#     'calReconstructRate':calReconstructRate})\n"
   ]
  },
  {
   "cell_type": "code",
   "execution_count": 17,
   "metadata": {},
   "outputs": [],
   "source": [
    "from MAESeqModule.MAESeq_utils import mask_onehot_matrix\n",
    "import numpy as np\n",
    "import pandas as pd\n",
    "\n",
    "def evaluate_per_mask_rate(onehot_test, autoencoder):\n",
    "    mask_rates = np.linspace(0,1,21)\n",
    "    res = pd.Series(dtype=pd.Float64Dtype)\n",
    "    for rate in mask_rates:\n",
    "        onehot_test_mask = mask_onehot_matrix(onehot_test, rate)\n",
    "        test_res = autoencoder.predict(onehot_test)\n",
    "        reconst_rate = ReconstructRateVaried(onehot_test, test_res)\n",
    "        # reconst_rate = rate\n",
    "        res['Mask '+'%.2f'%rate] = reconst_rate\n",
    "    return res\n"
   ]
  },
  {
   "cell_type": "code",
   "execution_count": null,
   "metadata": {},
   "outputs": [],
   "source": [
    "test = dict()\n",
    "for i in range(5):\n",
    "    test_s = evaluate_per_mask_rate()\n",
    "    test_s.to_csv('res/'+str(i)+'.csv')\n",
    "    print(test_s)\n",
    "    test_s.to_csv('test.csv')\n",
    "    test['Train_Rate = '+str(i)] = test_s\n",
    "pd.DataFrame(test)"
   ]
  }
 ],
 "metadata": {
  "kernelspec": {
   "display_name": "Python 3.8.8 ('base')",
   "language": "python",
   "name": "python3"
  },
  "language_info": {
   "codemirror_mode": {
    "name": "ipython",
    "version": 3
   },
   "file_extension": ".py",
   "mimetype": "text/x-python",
   "name": "python",
   "nbconvert_exporter": "python",
   "pygments_lexer": "ipython3",
   "version": "3.8.8"
  },
  "orig_nbformat": 4,
  "vscode": {
   "interpreter": {
    "hash": "49cb93f377a7abe7414b7b0f21fb3017538004a126cf690fb524202736b7fb92"
   }
  }
 },
 "nbformat": 4,
 "nbformat_minor": 2
}
