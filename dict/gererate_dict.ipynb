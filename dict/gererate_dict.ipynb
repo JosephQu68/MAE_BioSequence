{
 "cells": [
  {
   "cell_type": "code",
   "execution_count": 2,
   "metadata": {},
   "outputs": [
    {
     "name": "stdout",
     "output_type": "stream",
     "text": [
      "{0: 'A', 1: 'B', 2: 'C', 3: 'D', 4: 'E', 5: 'F', 6: 'G', 7: 'H', 8: 'I', 9: 'J', 10: 'K', 11: 'L', 12: 'M', 13: 'N', 14: 'O', 15: 'P', 16: 'Q', 17: 'R', 18: 'S', 19: 'T', 20: 'U', 21: 'V', 22: 'W', 23: 'Y', 24: 'Z', 25: 'X'}\n",
      "{'A': 0, 'B': 1, 'C': 2, 'D': 3, 'E': 4, 'F': 5, 'G': 6, 'H': 7, 'I': 8, 'J': 9, 'K': 10, 'L': 11, 'M': 12, 'N': 13, 'O': 14, 'P': 15, 'Q': 16, 'R': 17, 'S': 18, 'T': 19, 'U': 20, 'V': 21, 'W': 22, 'Y': 23, 'Z': 24, 'X': 25}\n"
     ]
    }
   ],
   "source": [
    "import numpy as np\n",
    "\n",
    "dict_char2int = dict()\n",
    "dict_int2char = dict()\n",
    "idx = 0\n",
    "with open('vocab.txt', 'r') as dfile:\n",
    "    for line in dfile:\n",
    "        tmp_char = line[0]\n",
    "        dict_char2int[tmp_char] = idx\n",
    "        dict_int2char[idx] = tmp_char\n",
    "        idx += 1\n",
    "    \n",
    "dict_char2int = np.array(dict_char2int)\n",
    "dict_int2char = np.array(dict_int2char)\n",
    "\n",
    "print(dict_int2char)\n",
    "print(dict_char2int)\n",
    "\n",
    "np.save('char2int.npy', dict_char2int)\n",
    "np.save('int2char.npy', dict_int2char)\n",
    "\n"
   ]
  }
 ],
 "metadata": {
  "kernelspec": {
   "display_name": "Python 3",
   "language": "python",
   "name": "python3"
  },
  "language_info": {
   "codemirror_mode": {
    "name": "ipython",
    "version": 3
   },
   "file_extension": ".py",
   "mimetype": "text/x-python",
   "name": "python",
   "nbconvert_exporter": "python",
   "pygments_lexer": "ipython3",
   "version": "3.9.16"
  },
  "orig_nbformat": 4
 },
 "nbformat": 4,
 "nbformat_minor": 2
}
