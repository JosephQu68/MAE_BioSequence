{
 "cells": [
  {
   "cell_type": "code",
   "execution_count": 1,
   "id": "ca8a4b3b-e138-44cc-b783-8342a3707a5c",
   "metadata": {},
   "outputs": [],
   "source": [
    "import numpy as np\n",
    "DATA_PATH = '/geniusland/dataset/uniprot/uniref90/uniref90.fasta'\n",
    "\n",
    "seq_list = []\n",
    "tmp_seq = str()\n",
    "\n",
    "with open(DATA_PATH, 'r') as dfile:\n",
    "    for line in dfile:\n",
    "        if line[0] == '>':\n",
    "            if (len(tmp_seq) >= 20 and len(tmp_seq) <= 300):\n",
    "                seq_list.append(tmp_seq)\n",
    "            tmp_seq = str()\n",
    "            if len(seq_list) >= 120000:\n",
    "                break\n",
    "        else:\n",
    "            tmp_seq += line[:-1]\n",
    "            # print(len(tmp_seq))\n",
    "\n",
    "\n",
    "seq_list = np.array(seq_list)\n",
    "np.save('uniref90_min20_max300_num120k.npy', seq_list)\n"
   ]
  },
  {
   "cell_type": "code",
   "execution_count": 2,
   "id": "f4f01248",
   "metadata": {},
   "outputs": [
    {
     "data": {
      "text/plain": [
       "(120000,)"
      ]
     },
     "execution_count": 2,
     "metadata": {},
     "output_type": "execute_result"
    }
   ],
   "source": []
  }
 ],
 "metadata": {
  "kernelspec": {
   "display_name": "Python 3 (ipykernel)",
   "language": "python",
   "name": "python3"
  },
  "language_info": {
   "codemirror_mode": {
    "name": "ipython",
    "version": 3
   },
   "file_extension": ".py",
   "mimetype": "text/x-python",
   "name": "python",
   "nbconvert_exporter": "python",
   "pygments_lexer": "ipython3",
   "version": "3.9.16"
  }
 },
 "nbformat": 4,
 "nbformat_minor": 5
}
